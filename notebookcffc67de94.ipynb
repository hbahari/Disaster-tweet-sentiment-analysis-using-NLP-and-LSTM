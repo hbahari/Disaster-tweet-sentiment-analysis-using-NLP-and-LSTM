{
 "cells": [
  {
   "cell_type": "code",
   "execution_count": 1,
   "id": "e249b9a1",
   "metadata": {
    "_cell_guid": "b1076dfc-b9ad-4769-8c92-a6c4dae69d19",
    "_uuid": "8f2839f25d086af736a60e9eeb907d3b93b6e0e5",
    "execution": {
     "iopub.execute_input": "2022-09-27T09:57:50.928115Z",
     "iopub.status.busy": "2022-09-27T09:57:50.926813Z",
     "iopub.status.idle": "2022-09-27T09:57:50.951305Z",
     "shell.execute_reply": "2022-09-27T09:57:50.950019Z"
    },
    "papermill": {
     "duration": 0.037198,
     "end_time": "2022-09-27T09:57:50.954627",
     "exception": false,
     "start_time": "2022-09-27T09:57:50.917429",
     "status": "completed"
    },
    "tags": []
   },
   "outputs": [
    {
     "name": "stdout",
     "output_type": "stream",
     "text": [
      "/kaggle/input/nlp-getting-started/sample_submission.csv\n",
      "/kaggle/input/nlp-getting-started/train.csv\n",
      "/kaggle/input/nlp-getting-started/test.csv\n"
     ]
    }
   ],
   "source": [
    "# This Python 3 environment comes with many helpful analytics libraries installed\n",
    "# It is defined by the kaggle/python Docker image: https://github.com/kaggle/docker-python\n",
    "# For example, here's several helpful packages to load\n",
    "\n",
    "import numpy as np # linear algebra\n",
    "import pandas as pd # data processing, CSV file I/O (e.g. pd.read_csv)\n",
    "\n",
    "# Input data files are available in the read-only \"../input/\" directory\n",
    "# For example, running this (by clicking run or pressing Shift+Enter) will list all files under the input directory\n",
    "\n",
    "import os\n",
    "for dirname, _, filenames in os.walk('/kaggle/input'):\n",
    "    for filename in filenames:\n",
    "        print(os.path.join(dirname, filename))\n",
    "\n",
    "# You can write up to 20GB to the current directory (/kaggle/working/) that gets preserved as output when you create a version using \"Save & Run All\" \n",
    "# You can also write temporary files to /kaggle/temp/, but they won't be saved outside of the current session"
   ]
  },
  {
   "cell_type": "code",
   "execution_count": 2,
   "id": "ba40bed5",
   "metadata": {
    "execution": {
     "iopub.execute_input": "2022-09-27T09:57:50.970917Z",
     "iopub.status.busy": "2022-09-27T09:57:50.970379Z",
     "iopub.status.idle": "2022-09-27T09:58:00.825176Z",
     "shell.execute_reply": "2022-09-27T09:58:00.823758Z"
    },
    "papermill": {
     "duration": 9.867512,
     "end_time": "2022-09-27T09:58:00.828529",
     "exception": false,
     "start_time": "2022-09-27T09:57:50.961017",
     "status": "completed"
    },
    "tags": []
   },
   "outputs": [
    {
     "name": "stderr",
     "output_type": "stream",
     "text": [
      "[nltk_data] Downloading package stopwords to /usr/share/nltk_data...\n",
      "[nltk_data]   Package stopwords is already up-to-date!\n",
      "[nltk_data] Downloading package punkt to /usr/share/nltk_data...\n",
      "[nltk_data]   Package punkt is already up-to-date!\n",
      "[nltk_data] Downloading package averaged_perceptron_tagger to\n",
      "[nltk_data]     /usr/share/nltk_data...\n",
      "[nltk_data]   Package averaged_perceptron_tagger is already up-to-\n",
      "[nltk_data]       date!\n",
      "[nltk_data] Downloading package wordnet to /usr/share/nltk_data...\n",
      "[nltk_data]   Package wordnet is already up-to-date!\n",
      "[nltk_data] Downloading package omw-1.4 to /usr/share/nltk_data...\n"
     ]
    }
   ],
   "source": [
    "import matplotlib.pyplot as plt \n",
    "%matplotlib inline\n",
    "import seaborn as sns \n",
    "from sklearn.model_selection import train_test_split \n",
    "from sklearn.metrics import precision_score \n",
    "from sklearn.metrics import recall_score  \n",
    "from sklearn.metrics import f1_score  \n",
    "from sklearn.metrics import accuracy_score \n",
    "from sklearn.metrics import classification_report \n",
    "from sklearn.metrics import confusion_matrix  \n",
    "from sklearn.preprocessing import LabelEncoder\n",
    "from sklearn.manifold import TSNE \n",
    "from sklearn.feature_extraction.text import CountVectorizer \n",
    "from sklearn.feature_extraction.text import TfidfVectorizer\n",
    "import sklearn.metrics as metrics\n",
    "\n",
    "from keras.preprocessing.text import Tokenizer\n",
    "from keras.preprocessing.sequence import pad_sequences\n",
    "from keras.callbacks import ReduceLROnPlateau, EarlyStopping\n",
    "from keras.layers.embeddings import Embedding\n",
    "from keras.callbacks import ModelCheckpoint, ReduceLROnPlateau\n",
    "from keras.initializers import Constant\n",
    "from tensorflow.keras import optimizers\n",
    "from keras import utils\n",
    "from keras.models import Sequential\n",
    "from keras.layers import (LSTM, \n",
    "                          Activation,\n",
    "                          Conv1D,\n",
    "                          MaxPooling1D,\n",
    "                          Embedding, \n",
    "                          BatchNormalization,\n",
    "                          Dense, \n",
    "                          TimeDistributed, \n",
    "                          Dropout, \n",
    "                          Bidirectional,\n",
    "                          Flatten, \n",
    "                          GlobalMaxPool1D)\n",
    "\n",
    "from nltk.corpus import stopwords\n",
    "from nltk.stem import SnowballStemmer\n",
    "import nltk\n",
    "nltk.download('stopwords')\n",
    "nltk.download('punkt')\n",
    "nltk.download('averaged_perceptron_tagger')\n",
    "nltk.download('wordnet')\n",
    "from nltk.corpus import stopwords, wordnet\n",
    "from nltk.stem import WordNetLemmatizer\n",
    "from nltk.tokenize import word_tokenize\n",
    "from nltk.probability import FreqDist\n",
    "import nltk\n",
    "nltk.download('omw-1.4')\n",
    "\n",
    "import gensim\n",
    "from gensim.test.utils import common_texts\n",
    "from gensim.models import Word2Vec\n",
    "\n",
    "from PIL import Image\n",
    "from wordcloud import WordCloud, STOPWORDS, ImageColorGenerator\n",
    "from collections import Counter, defaultdict\n",
    "\n",
    "import warnings \n",
    "warnings.filterwarnings('ignore')\n",
    "\n",
    "# logging.basicConfig(format='%(asctime)s : %(levelname)s : %(message)s', level=logging.INFO)\n",
    "\n",
    "import string\n",
    "import re\n",
    "import numpy as np\n",
    "import os\n",
    "from collections import Counter\n",
    "import logging\n",
    "import time\n",
    "import pickle\n",
    "import itertools\n",
    "import random\n",
    "import datetime\n"
   ]
  },
  {
   "cell_type": "code",
   "execution_count": 3,
   "id": "cd14906d",
   "metadata": {
    "execution": {
     "iopub.execute_input": "2022-09-27T09:58:00.843859Z",
     "iopub.status.busy": "2022-09-27T09:58:00.842111Z",
     "iopub.status.idle": "2022-09-27T09:58:00.977342Z",
     "shell.execute_reply": "2022-09-27T09:58:00.976003Z"
    },
    "papermill": {
     "duration": 0.145087,
     "end_time": "2022-09-27T09:58:00.979829",
     "exception": false,
     "start_time": "2022-09-27T09:58:00.834742",
     "status": "completed"
    },
    "tags": []
   },
   "outputs": [
    {
     "name": "stdout",
     "output_type": "stream",
     "text": [
      "<class 'pandas.core.frame.DataFrame'>\n",
      "RangeIndex: 7613 entries, 0 to 7612\n",
      "Data columns (total 5 columns):\n",
      " #   Column    Non-Null Count  Dtype \n",
      "---  ------    --------------  ----- \n",
      " 0   id        7613 non-null   int64 \n",
      " 1   keyword   7552 non-null   object\n",
      " 2   location  5080 non-null   object\n",
      " 3   text      7613 non-null   object\n",
      " 4   target    7613 non-null   int64 \n",
      "dtypes: int64(2), object(3)\n",
      "memory usage: 297.5+ KB\n"
     ]
    },
    {
     "data": {
      "text/html": [
       "<div>\n",
       "<style scoped>\n",
       "    .dataframe tbody tr th:only-of-type {\n",
       "        vertical-align: middle;\n",
       "    }\n",
       "\n",
       "    .dataframe tbody tr th {\n",
       "        vertical-align: top;\n",
       "    }\n",
       "\n",
       "    .dataframe thead th {\n",
       "        text-align: right;\n",
       "    }\n",
       "</style>\n",
       "<table border=\"1\" class=\"dataframe\">\n",
       "  <thead>\n",
       "    <tr style=\"text-align: right;\">\n",
       "      <th></th>\n",
       "      <th>id</th>\n",
       "      <th>keyword</th>\n",
       "      <th>location</th>\n",
       "      <th>text</th>\n",
       "      <th>target</th>\n",
       "    </tr>\n",
       "  </thead>\n",
       "  <tbody>\n",
       "    <tr>\n",
       "      <th>0</th>\n",
       "      <td>1</td>\n",
       "      <td>NaN</td>\n",
       "      <td>NaN</td>\n",
       "      <td>Our Deeds are the Reason of this #earthquake M...</td>\n",
       "      <td>1</td>\n",
       "    </tr>\n",
       "    <tr>\n",
       "      <th>1</th>\n",
       "      <td>4</td>\n",
       "      <td>NaN</td>\n",
       "      <td>NaN</td>\n",
       "      <td>Forest fire near La Ronge Sask. Canada</td>\n",
       "      <td>1</td>\n",
       "    </tr>\n",
       "    <tr>\n",
       "      <th>2</th>\n",
       "      <td>5</td>\n",
       "      <td>NaN</td>\n",
       "      <td>NaN</td>\n",
       "      <td>All residents asked to 'shelter in place' are ...</td>\n",
       "      <td>1</td>\n",
       "    </tr>\n",
       "    <tr>\n",
       "      <th>3</th>\n",
       "      <td>6</td>\n",
       "      <td>NaN</td>\n",
       "      <td>NaN</td>\n",
       "      <td>13,000 people receive #wildfires evacuation or...</td>\n",
       "      <td>1</td>\n",
       "    </tr>\n",
       "    <tr>\n",
       "      <th>4</th>\n",
       "      <td>7</td>\n",
       "      <td>NaN</td>\n",
       "      <td>NaN</td>\n",
       "      <td>Just got sent this photo from Ruby #Alaska as ...</td>\n",
       "      <td>1</td>\n",
       "    </tr>\n",
       "  </tbody>\n",
       "</table>\n",
       "</div>"
      ],
      "text/plain": [
       "   id keyword location                                               text  \\\n",
       "0   1     NaN      NaN  Our Deeds are the Reason of this #earthquake M...   \n",
       "1   4     NaN      NaN             Forest fire near La Ronge Sask. Canada   \n",
       "2   5     NaN      NaN  All residents asked to 'shelter in place' are ...   \n",
       "3   6     NaN      NaN  13,000 people receive #wildfires evacuation or...   \n",
       "4   7     NaN      NaN  Just got sent this photo from Ruby #Alaska as ...   \n",
       "\n",
       "   target  \n",
       "0       1  \n",
       "1       1  \n",
       "2       1  \n",
       "3       1  \n",
       "4       1  "
      ]
     },
     "execution_count": 3,
     "metadata": {},
     "output_type": "execute_result"
    }
   ],
   "source": [
    "train = pd.read_csv('../input/nlp-getting-started/train.csv')\n",
    "test = pd.read_csv('../input/nlp-getting-started/test.csv')\n",
    "sub = pd.read_csv('../input/nlp-getting-started/sample_submission.csv')\n",
    "train.info()\n",
    "train.head()\n",
    "# sub.head()"
   ]
  },
  {
   "cell_type": "code",
   "execution_count": 4,
   "id": "8098a33b",
   "metadata": {
    "execution": {
     "iopub.execute_input": "2022-09-27T09:58:00.994523Z",
     "iopub.status.busy": "2022-09-27T09:58:00.994087Z",
     "iopub.status.idle": "2022-09-27T09:58:01.017034Z",
     "shell.execute_reply": "2022-09-27T09:58:01.015385Z"
    },
    "papermill": {
     "duration": 0.033621,
     "end_time": "2022-09-27T09:58:01.020009",
     "exception": false,
     "start_time": "2022-09-27T09:58:00.986388",
     "status": "completed"
    },
    "tags": []
   },
   "outputs": [
    {
     "name": "stdout",
     "output_type": "stream",
     "text": [
      "<class 'pandas.core.frame.DataFrame'>\n",
      "RangeIndex: 10876 entries, 0 to 10875\n",
      "Data columns (total 4 columns):\n",
      " #   Column    Non-Null Count  Dtype \n",
      "---  ------    --------------  ----- \n",
      " 0   id        10876 non-null  int64 \n",
      " 1   keyword   10789 non-null  object\n",
      " 2   location  7238 non-null   object\n",
      " 3   text      10876 non-null  object\n",
      "dtypes: int64(1), object(3)\n",
      "memory usage: 340.0+ KB\n"
     ]
    }
   ],
   "source": [
    "train_NoTarget = train.drop('target', axis=1)\n",
    "all_data = pd.concat([train_NoTarget,test],axis=0,ignore_index=True)\n",
    "all_data.info()"
   ]
  },
  {
   "cell_type": "code",
   "execution_count": 5,
   "id": "f6a851be",
   "metadata": {
    "execution": {
     "iopub.execute_input": "2022-09-27T09:58:01.036254Z",
     "iopub.status.busy": "2022-09-27T09:58:01.035862Z",
     "iopub.status.idle": "2022-09-27T09:58:01.283311Z",
     "shell.execute_reply": "2022-09-27T09:58:01.282105Z"
    },
    "papermill": {
     "duration": 0.258662,
     "end_time": "2022-09-27T09:58:01.285913",
     "exception": false,
     "start_time": "2022-09-27T09:58:01.027251",
     "status": "completed"
    },
    "tags": []
   },
   "outputs": [
    {
     "data": {
      "text/plain": [
       "Text(0.5, 1.0, 'Sentiment Distribution')"
      ]
     },
     "execution_count": 5,
     "metadata": {},
     "output_type": "execute_result"
    },
    {
     "data": {
      "image/png": "[encoded data removed]",
      "text/plain": [
       "<Figure size 1152x576 with 1 Axes>"
      ]
     },
     "metadata": {
      "needs_background": "light"
     },
     "output_type": "display_data"
    }
   ],
   "source": [
    "plt.figure(figsize=(16,8))\n",
    "x = train.target.value_counts()\n",
    "sns.barplot(x.index, x, palette='cool')\n",
    "plt.gca().set_ylabel('Number of Tweets')\n",
    "plt.gca().set_xlabel('Sentiments')\n",
    "plt.title(\"Sentiment Distribution\")"
   ]
  },
  {
   "cell_type": "code",
   "execution_count": 6,
   "id": "9c2cb3d8",
   "metadata": {
    "execution": {
     "iopub.execute_input": "2022-09-27T09:58:01.302542Z",
     "iopub.status.busy": "2022-09-27T09:58:01.301581Z",
     "iopub.status.idle": "2022-09-27T09:58:01.312106Z",
     "shell.execute_reply": "2022-09-27T09:58:01.310918Z"
    },
    "papermill": {
     "duration": 0.021495,
     "end_time": "2022-09-27T09:58:01.314802",
     "exception": false,
     "start_time": "2022-09-27T09:58:01.293307",
     "status": "completed"
    },
    "tags": []
   },
   "outputs": [],
   "source": [
    "\n",
    "stop_words = set(stopwords.words(\"english\"))\n",
    "stop_words.remove('not')\n",
    "more_stopwords = {'one', 'br', 'Po', 'th', 'sayi', 'fo', 'Unknown'}\n",
    "stop_words = stop_words.union(more_stopwords)\n",
    "                 \n",
    "stemmer = SnowballStemmer(\"english\")"
   ]
  },
  {
   "cell_type": "code",
   "execution_count": 7,
   "id": "f7fc7300",
   "metadata": {
    "execution": {
     "iopub.execute_input": "2022-09-27T09:58:01.331119Z",
     "iopub.status.busy": "2022-09-27T09:58:01.330545Z",
     "iopub.status.idle": "2022-09-27T09:58:03.111314Z",
     "shell.execute_reply": "2022-09-27T09:58:03.110107Z"
    },
    "papermill": {
     "duration": 1.792115,
     "end_time": "2022-09-27T09:58:03.114270",
     "exception": false,
     "start_time": "2022-09-27T09:58:01.322155",
     "status": "completed"
    },
    "tags": []
   },
   "outputs": [
    {
     "data": {
      "text/html": [
       "<div>\n",
       "<style scoped>\n",
       "    .dataframe tbody tr th:only-of-type {\n",
       "        vertical-align: middle;\n",
       "    }\n",
       "\n",
       "    .dataframe tbody tr th {\n",
       "        vertical-align: top;\n",
       "    }\n",
       "\n",
       "    .dataframe thead th {\n",
       "        text-align: right;\n",
       "    }\n",
       "</style>\n",
       "<table border=\"1\" class=\"dataframe\">\n",
       "  <thead>\n",
       "    <tr style=\"text-align: right;\">\n",
       "      <th></th>\n",
       "      <th>id</th>\n",
       "      <th>keyword</th>\n",
       "      <th>location</th>\n",
       "      <th>text</th>\n",
       "      <th>mod_text</th>\n",
       "      <th>tokenized</th>\n",
       "      <th>lower</th>\n",
       "      <th>stopwords_removed</th>\n",
       "    </tr>\n",
       "  </thead>\n",
       "  <tbody>\n",
       "    <tr>\n",
       "      <th>0</th>\n",
       "      <td>1</td>\n",
       "      <td>NaN</td>\n",
       "      <td>NaN</td>\n",
       "      <td>Our Deeds are the Reason of this #earthquake M...</td>\n",
       "      <td>Our Deeds are the Reason of this earthquake Ma...</td>\n",
       "      <td>[Our, Deeds, are, the, Reason, of, this, earth...</td>\n",
       "      <td>[our, deeds, are, the, reason, of, this, earth...</td>\n",
       "      <td>[deeds, reason, earthquake, may, allah, forgiv...</td>\n",
       "    </tr>\n",
       "    <tr>\n",
       "      <th>1</th>\n",
       "      <td>4</td>\n",
       "      <td>NaN</td>\n",
       "      <td>NaN</td>\n",
       "      <td>Forest fire near La Ronge Sask. Canada</td>\n",
       "      <td>Forest fire near La Ronge Sask Canada</td>\n",
       "      <td>[Forest, fire, near, La, Ronge, Sask, Canada]</td>\n",
       "      <td>[forest, fire, near, la, ronge, sask, canada]</td>\n",
       "      <td>[forest, fire, near, la, ronge, sask, canada]</td>\n",
       "    </tr>\n",
       "    <tr>\n",
       "      <th>2</th>\n",
       "      <td>5</td>\n",
       "      <td>NaN</td>\n",
       "      <td>NaN</td>\n",
       "      <td>All residents asked to 'shelter in place' are ...</td>\n",
       "      <td>All residents asked to shelter in place are be...</td>\n",
       "      <td>[All, residents, asked, to, shelter, in, place...</td>\n",
       "      <td>[all, residents, asked, to, shelter, in, place...</td>\n",
       "      <td>[residents, asked, shelter, place, notified, o...</td>\n",
       "    </tr>\n",
       "    <tr>\n",
       "      <th>3</th>\n",
       "      <td>6</td>\n",
       "      <td>NaN</td>\n",
       "      <td>NaN</td>\n",
       "      <td>13,000 people receive #wildfires evacuation or...</td>\n",
       "      <td>13000 people receive wildfires evacuation orde...</td>\n",
       "      <td>[13000, people, receive, wildfires, evacuation...</td>\n",
       "      <td>[13000, people, receive, wildfires, evacuation...</td>\n",
       "      <td>[13000, people, receive, wildfires, evacuation...</td>\n",
       "    </tr>\n",
       "    <tr>\n",
       "      <th>4</th>\n",
       "      <td>7</td>\n",
       "      <td>NaN</td>\n",
       "      <td>NaN</td>\n",
       "      <td>Just got sent this photo from Ruby #Alaska as ...</td>\n",
       "      <td>Just got sent this photo from Ruby Alaska as s...</td>\n",
       "      <td>[Just, got, sent, this, photo, from, Ruby, Ala...</td>\n",
       "      <td>[just, got, sent, this, photo, from, ruby, ala...</td>\n",
       "      <td>[got, sent, photo, ruby, alaska, smoke, wildfi...</td>\n",
       "    </tr>\n",
       "  </tbody>\n",
       "</table>\n",
       "</div>"
      ],
      "text/plain": [
       "   id keyword location                                               text  \\\n",
       "0   1     NaN      NaN  Our Deeds are the Reason of this #earthquake M...   \n",
       "1   4     NaN      NaN             Forest fire near La Ronge Sask. Canada   \n",
       "2   5     NaN      NaN  All residents asked to 'shelter in place' are ...   \n",
       "3   6     NaN      NaN  13,000 people receive #wildfires evacuation or...   \n",
       "4   7     NaN      NaN  Just got sent this photo from Ruby #Alaska as ...   \n",
       "\n",
       "                                            mod_text  \\\n",
       "0  Our Deeds are the Reason of this earthquake Ma...   \n",
       "1              Forest fire near La Ronge Sask Canada   \n",
       "2  All residents asked to shelter in place are be...   \n",
       "3  13000 people receive wildfires evacuation orde...   \n",
       "4  Just got sent this photo from Ruby Alaska as s...   \n",
       "\n",
       "                                           tokenized  \\\n",
       "0  [Our, Deeds, are, the, Reason, of, this, earth...   \n",
       "1      [Forest, fire, near, La, Ronge, Sask, Canada]   \n",
       "2  [All, residents, asked, to, shelter, in, place...   \n",
       "3  [13000, people, receive, wildfires, evacuation...   \n",
       "4  [Just, got, sent, this, photo, from, Ruby, Ala...   \n",
       "\n",
       "                                               lower  \\\n",
       "0  [our, deeds, are, the, reason, of, this, earth...   \n",
       "1      [forest, fire, near, la, ronge, sask, canada]   \n",
       "2  [all, residents, asked, to, shelter, in, place...   \n",
       "3  [13000, people, receive, wildfires, evacuation...   \n",
       "4  [just, got, sent, this, photo, from, ruby, ala...   \n",
       "\n",
       "                                   stopwords_removed  \n",
       "0  [deeds, reason, earthquake, may, allah, forgiv...  \n",
       "1      [forest, fire, near, la, ronge, sask, canada]  \n",
       "2  [residents, asked, shelter, place, notified, o...  \n",
       "3  [13000, people, receive, wildfires, evacuation...  \n",
       "4  [got, sent, photo, ruby, alaska, smoke, wildfi...  "
      ]
     },
     "execution_count": 7,
     "metadata": {},
     "output_type": "execute_result"
    }
   ],
   "source": [
    "def remove_URL(text):\n",
    "    url = re.compile(r'https?://\\S+|www\\.\\S+')\n",
    "    return url.sub(r'', text)\n",
    "\n",
    "\n",
    "def remove_emoji(text):\n",
    "    emoji_pattern = re.compile(\n",
    "        '['\n",
    "        u'\\U0001F600-\\U0001F64F'  # emoticons\n",
    "        u'\\U0001F300-\\U0001F5FF'  # symbols & pictographs\n",
    "        u'\\U0001F680-\\U0001F6FF'  # transport & map symbols\n",
    "        u'\\U0001F1E0-\\U0001F1FF'  # flags (iOS)\n",
    "        u'\\U00002702-\\U000027B0'\n",
    "        u'\\U000024C2-\\U0001F251'\n",
    "        ']+',\n",
    "        flags=re.UNICODE)\n",
    "    return emoji_pattern.sub(r'', text)\n",
    "\n",
    "\n",
    "def remove_html(text):\n",
    "    html = re.compile(r'^[^ ]<.*?>|&([a-z0-9]+|#[0-9]\\\"\\'\\“{1,6}|#x[0-9a-f]{1,6});[^A-Za-z0-9]+')\n",
    "    return re.sub(html, '', text)\n",
    "\n",
    "\n",
    "def remove_punct(text):\n",
    "    table = str.maketrans('', '', string.punctuation)\n",
    "    return text.translate(table)\n",
    "\n",
    "def remove_quotes(text):\n",
    "    quotes = re.compile(r'[^A-Za-z0-9\\s]+')\n",
    "    return re.sub(quotes, '', text)\n",
    "\n",
    "\n",
    "# modify data to remove punctuations, emojis, etc.\n",
    "all_data['mod_text'] = all_data['text'].apply(lambda x: remove_URL(x))\n",
    "all_data['mod_text'] = all_data['mod_text'].apply(lambda x: remove_emoji(x))\n",
    "all_data['mod_text'] = all_data['mod_text'].apply(lambda x: remove_html(x))\n",
    "all_data['mod_text'] = all_data['mod_text'].apply(lambda x: remove_punct(x))\n",
    "all_data['mod_text'] = all_data['mod_text'].apply(lambda x: remove_quotes(x))\n",
    "\n",
    "#tokenize text\n",
    "all_data['tokenized'] = all_data['mod_text'].apply(word_tokenize)\n",
    "\n",
    "#lowercase all text\n",
    "all_data['lower'] = all_data['tokenized'].apply(\n",
    "    lambda x: [word.lower() for word in x])\n",
    "\n",
    "#remove stop words\n",
    "all_data['stopwords_removed'] = all_data['lower'].apply(\n",
    "    lambda x: [word for word in x if word not in stop_words])\n",
    "\n",
    "all_data.head()"
   ]
  },
  {
   "cell_type": "code",
   "execution_count": 8,
   "id": "5c0fe792",
   "metadata": {
    "execution": {
     "iopub.execute_input": "2022-09-27T09:58:03.130848Z",
     "iopub.status.busy": "2022-09-27T09:58:03.130419Z",
     "iopub.status.idle": "2022-09-27T09:58:12.525835Z",
     "shell.execute_reply": "2022-09-27T09:58:12.524432Z"
    },
    "papermill": {
     "duration": 9.406919,
     "end_time": "2022-09-27T09:58:12.528471",
     "exception": false,
     "start_time": "2022-09-27T09:58:03.121552",
     "status": "completed"
    },
    "tags": []
   },
   "outputs": [
    {
     "data": {
      "text/html": [
       "<div>\n",
       "<style scoped>\n",
       "    .dataframe tbody tr th:only-of-type {\n",
       "        vertical-align: middle;\n",
       "    }\n",
       "\n",
       "    .dataframe tbody tr th {\n",
       "        vertical-align: top;\n",
       "    }\n",
       "\n",
       "    .dataframe thead th {\n",
       "        text-align: right;\n",
       "    }\n",
       "</style>\n",
       "<table border=\"1\" class=\"dataframe\">\n",
       "  <thead>\n",
       "    <tr style=\"text-align: right;\">\n",
       "      <th></th>\n",
       "      <th>id</th>\n",
       "      <th>keyword</th>\n",
       "      <th>location</th>\n",
       "      <th>text</th>\n",
       "      <th>mod_text</th>\n",
       "      <th>tokenized</th>\n",
       "      <th>lower</th>\n",
       "      <th>stopwords_removed</th>\n",
       "      <th>pos_tags</th>\n",
       "    </tr>\n",
       "  </thead>\n",
       "  <tbody>\n",
       "    <tr>\n",
       "      <th>0</th>\n",
       "      <td>1</td>\n",
       "      <td>NaN</td>\n",
       "      <td>NaN</td>\n",
       "      <td>Our Deeds are the Reason of this #earthquake M...</td>\n",
       "      <td>Our Deeds are the Reason of this earthquake Ma...</td>\n",
       "      <td>[Our, Deeds, are, the, Reason, of, this, earth...</td>\n",
       "      <td>[our, deeds, are, the, reason, of, this, earth...</td>\n",
       "      <td>[deeds, reason, earthquake, may, allah, forgiv...</td>\n",
       "      <td>[(deeds, NNS), (reason, NN), (earthquake, NN),...</td>\n",
       "    </tr>\n",
       "    <tr>\n",
       "      <th>1</th>\n",
       "      <td>4</td>\n",
       "      <td>NaN</td>\n",
       "      <td>NaN</td>\n",
       "      <td>Forest fire near La Ronge Sask. Canada</td>\n",
       "      <td>Forest fire near La Ronge Sask Canada</td>\n",
       "      <td>[Forest, fire, near, La, Ronge, Sask, Canada]</td>\n",
       "      <td>[forest, fire, near, la, ronge, sask, canada]</td>\n",
       "      <td>[forest, fire, near, la, ronge, sask, canada]</td>\n",
       "      <td>[(forest, JJS), (fire, NN), (near, IN), (la, J...</td>\n",
       "    </tr>\n",
       "    <tr>\n",
       "      <th>2</th>\n",
       "      <td>5</td>\n",
       "      <td>NaN</td>\n",
       "      <td>NaN</td>\n",
       "      <td>All residents asked to 'shelter in place' are ...</td>\n",
       "      <td>All residents asked to shelter in place are be...</td>\n",
       "      <td>[All, residents, asked, to, shelter, in, place...</td>\n",
       "      <td>[all, residents, asked, to, shelter, in, place...</td>\n",
       "      <td>[residents, asked, shelter, place, notified, o...</td>\n",
       "      <td>[(residents, NNS), (asked, VBD), (shelter, JJ)...</td>\n",
       "    </tr>\n",
       "    <tr>\n",
       "      <th>3</th>\n",
       "      <td>6</td>\n",
       "      <td>NaN</td>\n",
       "      <td>NaN</td>\n",
       "      <td>13,000 people receive #wildfires evacuation or...</td>\n",
       "      <td>13000 people receive wildfires evacuation orde...</td>\n",
       "      <td>[13000, people, receive, wildfires, evacuation...</td>\n",
       "      <td>[13000, people, receive, wildfires, evacuation...</td>\n",
       "      <td>[13000, people, receive, wildfires, evacuation...</td>\n",
       "      <td>[(13000, CD), (people, NNS), (receive, JJ), (w...</td>\n",
       "    </tr>\n",
       "    <tr>\n",
       "      <th>4</th>\n",
       "      <td>7</td>\n",
       "      <td>NaN</td>\n",
       "      <td>NaN</td>\n",
       "      <td>Just got sent this photo from Ruby #Alaska as ...</td>\n",
       "      <td>Just got sent this photo from Ruby Alaska as s...</td>\n",
       "      <td>[Just, got, sent, this, photo, from, Ruby, Ala...</td>\n",
       "      <td>[just, got, sent, this, photo, from, ruby, ala...</td>\n",
       "      <td>[got, sent, photo, ruby, alaska, smoke, wildfi...</td>\n",
       "      <td>[(got, VBD), (sent, JJ), (photo, NN), (ruby, N...</td>\n",
       "    </tr>\n",
       "  </tbody>\n",
       "</table>\n",
       "</div>"
      ],
      "text/plain": [
       "   id keyword location                                               text  \\\n",
       "0   1     NaN      NaN  Our Deeds are the Reason of this #earthquake M...   \n",
       "1   4     NaN      NaN             Forest fire near La Ronge Sask. Canada   \n",
       "2   5     NaN      NaN  All residents asked to 'shelter in place' are ...   \n",
       "3   6     NaN      NaN  13,000 people receive #wildfires evacuation or...   \n",
       "4   7     NaN      NaN  Just got sent this photo from Ruby #Alaska as ...   \n",
       "\n",
       "                                            mod_text  \\\n",
       "0  Our Deeds are the Reason of this earthquake Ma...   \n",
       "1              Forest fire near La Ronge Sask Canada   \n",
       "2  All residents asked to shelter in place are be...   \n",
       "3  13000 people receive wildfires evacuation orde...   \n",
       "4  Just got sent this photo from Ruby Alaska as s...   \n",
       "\n",
       "                                           tokenized  \\\n",
       "0  [Our, Deeds, are, the, Reason, of, this, earth...   \n",
       "1      [Forest, fire, near, La, Ronge, Sask, Canada]   \n",
       "2  [All, residents, asked, to, shelter, in, place...   \n",
       "3  [13000, people, receive, wildfires, evacuation...   \n",
       "4  [Just, got, sent, this, photo, from, Ruby, Ala...   \n",
       "\n",
       "                                               lower  \\\n",
       "0  [our, deeds, are, the, reason, of, this, earth...   \n",
       "1      [forest, fire, near, la, ronge, sask, canada]   \n",
       "2  [all, residents, asked, to, shelter, in, place...   \n",
       "3  [13000, people, receive, wildfires, evacuation...   \n",
       "4  [just, got, sent, this, photo, from, ruby, ala...   \n",
       "\n",
       "                                   stopwords_removed  \\\n",
       "0  [deeds, reason, earthquake, may, allah, forgiv...   \n",
       "1      [forest, fire, near, la, ronge, sask, canada]   \n",
       "2  [residents, asked, shelter, place, notified, o...   \n",
       "3  [13000, people, receive, wildfires, evacuation...   \n",
       "4  [got, sent, photo, ruby, alaska, smoke, wildfi...   \n",
       "\n",
       "                                            pos_tags  \n",
       "0  [(deeds, NNS), (reason, NN), (earthquake, NN),...  \n",
       "1  [(forest, JJS), (fire, NN), (near, IN), (la, J...  \n",
       "2  [(residents, NNS), (asked, VBD), (shelter, JJ)...  \n",
       "3  [(13000, CD), (people, NNS), (receive, JJ), (w...  \n",
       "4  [(got, VBD), (sent, JJ), (photo, NN), (ruby, N...  "
      ]
     },
     "execution_count": 8,
     "metadata": {},
     "output_type": "execute_result"
    }
   ],
   "source": [
    "#apply speech tags \n",
    "all_data['pos_tags'] = all_data['stopwords_removed'].apply(nltk.tag.pos_tag)\n",
    "all_data.head()"
   ]
  },
  {
   "cell_type": "code",
   "execution_count": 9,
   "id": "4035a3cb",
   "metadata": {
    "execution": {
     "iopub.execute_input": "2022-09-27T09:58:12.544857Z",
     "iopub.status.busy": "2022-09-27T09:58:12.544444Z",
     "iopub.status.idle": "2022-09-27T09:58:14.872636Z",
     "shell.execute_reply": "2022-09-27T09:58:14.871451Z"
    },
    "papermill": {
     "duration": 2.339546,
     "end_time": "2022-09-27T09:58:14.875401",
     "exception": false,
     "start_time": "2022-09-27T09:58:12.535855",
     "status": "completed"
    },
    "tags": []
   },
   "outputs": [
    {
     "data": {
      "text/html": [
       "<div>\n",
       "<style scoped>\n",
       "    .dataframe tbody tr th:only-of-type {\n",
       "        vertical-align: middle;\n",
       "    }\n",
       "\n",
       "    .dataframe tbody tr th {\n",
       "        vertical-align: top;\n",
       "    }\n",
       "\n",
       "    .dataframe thead th {\n",
       "        text-align: right;\n",
       "    }\n",
       "</style>\n",
       "<table border=\"1\" class=\"dataframe\">\n",
       "  <thead>\n",
       "    <tr style=\"text-align: right;\">\n",
       "      <th></th>\n",
       "      <th>id</th>\n",
       "      <th>keyword</th>\n",
       "      <th>location</th>\n",
       "      <th>text</th>\n",
       "      <th>mod_text</th>\n",
       "      <th>tokenized</th>\n",
       "      <th>lower</th>\n",
       "      <th>stopwords_removed</th>\n",
       "      <th>pos_tags</th>\n",
       "      <th>wordnet_pos</th>\n",
       "    </tr>\n",
       "  </thead>\n",
       "  <tbody>\n",
       "    <tr>\n",
       "      <th>0</th>\n",
       "      <td>1</td>\n",
       "      <td>NaN</td>\n",
       "      <td>NaN</td>\n",
       "      <td>Our Deeds are the Reason of this #earthquake M...</td>\n",
       "      <td>Our Deeds are the Reason of this earthquake Ma...</td>\n",
       "      <td>[Our, Deeds, are, the, Reason, of, this, earth...</td>\n",
       "      <td>[our, deeds, are, the, reason, of, this, earth...</td>\n",
       "      <td>[deeds, reason, earthquake, may, allah, forgiv...</td>\n",
       "      <td>[(deeds, NNS), (reason, NN), (earthquake, NN),...</td>\n",
       "      <td>[(deeds, n), (reason, n), (earthquake, n), (ma...</td>\n",
       "    </tr>\n",
       "    <tr>\n",
       "      <th>1</th>\n",
       "      <td>4</td>\n",
       "      <td>NaN</td>\n",
       "      <td>NaN</td>\n",
       "      <td>Forest fire near La Ronge Sask. Canada</td>\n",
       "      <td>Forest fire near La Ronge Sask Canada</td>\n",
       "      <td>[Forest, fire, near, La, Ronge, Sask, Canada]</td>\n",
       "      <td>[forest, fire, near, la, ronge, sask, canada]</td>\n",
       "      <td>[forest, fire, near, la, ronge, sask, canada]</td>\n",
       "      <td>[(forest, JJS), (fire, NN), (near, IN), (la, J...</td>\n",
       "      <td>[(forest, a), (fire, n), (near, n), (la, a), (...</td>\n",
       "    </tr>\n",
       "    <tr>\n",
       "      <th>2</th>\n",
       "      <td>5</td>\n",
       "      <td>NaN</td>\n",
       "      <td>NaN</td>\n",
       "      <td>All residents asked to 'shelter in place' are ...</td>\n",
       "      <td>All residents asked to shelter in place are be...</td>\n",
       "      <td>[All, residents, asked, to, shelter, in, place...</td>\n",
       "      <td>[all, residents, asked, to, shelter, in, place...</td>\n",
       "      <td>[residents, asked, shelter, place, notified, o...</td>\n",
       "      <td>[(residents, NNS), (asked, VBD), (shelter, JJ)...</td>\n",
       "      <td>[(residents, n), (asked, v), (shelter, a), (pl...</td>\n",
       "    </tr>\n",
       "    <tr>\n",
       "      <th>3</th>\n",
       "      <td>6</td>\n",
       "      <td>NaN</td>\n",
       "      <td>NaN</td>\n",
       "      <td>13,000 people receive #wildfires evacuation or...</td>\n",
       "      <td>13000 people receive wildfires evacuation orde...</td>\n",
       "      <td>[13000, people, receive, wildfires, evacuation...</td>\n",
       "      <td>[13000, people, receive, wildfires, evacuation...</td>\n",
       "      <td>[13000, people, receive, wildfires, evacuation...</td>\n",
       "      <td>[(13000, CD), (people, NNS), (receive, JJ), (w...</td>\n",
       "      <td>[(13000, n), (people, n), (receive, a), (wildf...</td>\n",
       "    </tr>\n",
       "    <tr>\n",
       "      <th>4</th>\n",
       "      <td>7</td>\n",
       "      <td>NaN</td>\n",
       "      <td>NaN</td>\n",
       "      <td>Just got sent this photo from Ruby #Alaska as ...</td>\n",
       "      <td>Just got sent this photo from Ruby Alaska as s...</td>\n",
       "      <td>[Just, got, sent, this, photo, from, Ruby, Ala...</td>\n",
       "      <td>[just, got, sent, this, photo, from, ruby, ala...</td>\n",
       "      <td>[got, sent, photo, ruby, alaska, smoke, wildfi...</td>\n",
       "      <td>[(got, VBD), (sent, JJ), (photo, NN), (ruby, N...</td>\n",
       "      <td>[(got, v), (sent, a), (photo, n), (ruby, n), (...</td>\n",
       "    </tr>\n",
       "  </tbody>\n",
       "</table>\n",
       "</div>"
      ],
      "text/plain": [
       "   id keyword location                                               text  \\\n",
       "0   1     NaN      NaN  Our Deeds are the Reason of this #earthquake M...   \n",
       "1   4     NaN      NaN             Forest fire near La Ronge Sask. Canada   \n",
       "2   5     NaN      NaN  All residents asked to 'shelter in place' are ...   \n",
       "3   6     NaN      NaN  13,000 people receive #wildfires evacuation or...   \n",
       "4   7     NaN      NaN  Just got sent this photo from Ruby #Alaska as ...   \n",
       "\n",
       "                                            mod_text  \\\n",
       "0  Our Deeds are the Reason of this earthquake Ma...   \n",
       "1              Forest fire near La Ronge Sask Canada   \n",
       "2  All residents asked to shelter in place are be...   \n",
       "3  13000 people receive wildfires evacuation orde...   \n",
       "4  Just got sent this photo from Ruby Alaska as s...   \n",
       "\n",
       "                                           tokenized  \\\n",
       "0  [Our, Deeds, are, the, Reason, of, this, earth...   \n",
       "1      [Forest, fire, near, La, Ronge, Sask, Canada]   \n",
       "2  [All, residents, asked, to, shelter, in, place...   \n",
       "3  [13000, people, receive, wildfires, evacuation...   \n",
       "4  [Just, got, sent, this, photo, from, Ruby, Ala...   \n",
       "\n",
       "                                               lower  \\\n",
       "0  [our, deeds, are, the, reason, of, this, earth...   \n",
       "1      [forest, fire, near, la, ronge, sask, canada]   \n",
       "2  [all, residents, asked, to, shelter, in, place...   \n",
       "3  [13000, people, receive, wildfires, evacuation...   \n",
       "4  [just, got, sent, this, photo, from, ruby, ala...   \n",
       "\n",
       "                                   stopwords_removed  \\\n",
       "0  [deeds, reason, earthquake, may, allah, forgiv...   \n",
       "1      [forest, fire, near, la, ronge, sask, canada]   \n",
       "2  [residents, asked, shelter, place, notified, o...   \n",
       "3  [13000, people, receive, wildfires, evacuation...   \n",
       "4  [got, sent, photo, ruby, alaska, smoke, wildfi...   \n",
       "\n",
       "                                            pos_tags  \\\n",
       "0  [(deeds, NNS), (reason, NN), (earthquake, NN),...   \n",
       "1  [(forest, JJS), (fire, NN), (near, IN), (la, J...   \n",
       "2  [(residents, NNS), (asked, VBD), (shelter, JJ)...   \n",
       "3  [(13000, CD), (people, NNS), (receive, JJ), (w...   \n",
       "4  [(got, VBD), (sent, JJ), (photo, NN), (ruby, N...   \n",
       "\n",
       "                                         wordnet_pos  \n",
       "0  [(deeds, n), (reason, n), (earthquake, n), (ma...  \n",
       "1  [(forest, a), (fire, n), (near, n), (la, a), (...  \n",
       "2  [(residents, n), (asked, v), (shelter, a), (pl...  \n",
       "3  [(13000, n), (people, n), (receive, a), (wildf...  \n",
       "4  [(got, v), (sent, a), (photo, n), (ruby, n), (...  "
      ]
     },
     "execution_count": 9,
     "metadata": {},
     "output_type": "execute_result"
    }
   ],
   "source": [
    "#apply wordnet tags\n",
    "def get_wordnet_pos(tag):\n",
    "    if tag.startswith('J'):\n",
    "        return wordnet.ADJ\n",
    "    elif tag.startswith('V'):\n",
    "        return wordnet.VERB\n",
    "    elif tag.startswith('N'):\n",
    "        return wordnet.NOUN\n",
    "    elif tag.startswith('R'):\n",
    "        return wordnet.ADV\n",
    "    else:\n",
    "        return wordnet.NOUN\n",
    "\n",
    "\n",
    "all_data['wordnet_pos'] = all_data['pos_tags'].apply(\n",
    "    lambda x: [(word, get_wordnet_pos(pos_tag)) for (word, pos_tag) in x])\n",
    "\n",
    "all_data.head()\n"
   ]
  },
  {
   "cell_type": "code",
   "execution_count": 10,
   "id": "04f054f3",
   "metadata": {
    "execution": {
     "iopub.execute_input": "2022-09-27T09:58:14.892966Z",
     "iopub.status.busy": "2022-09-27T09:58:14.892498Z",
     "iopub.status.idle": "2022-09-27T09:58:15.548654Z",
     "shell.execute_reply": "2022-09-27T09:58:15.547358Z"
    },
    "papermill": {
     "duration": 0.667724,
     "end_time": "2022-09-27T09:58:15.551032",
     "exception": false,
     "start_time": "2022-09-27T09:58:14.883308",
     "status": "completed"
    },
    "tags": []
   },
   "outputs": [
    {
     "data": {
      "text/html": [
       "<div>\n",
       "<style scoped>\n",
       "    .dataframe tbody tr th:only-of-type {\n",
       "        vertical-align: middle;\n",
       "    }\n",
       "\n",
       "    .dataframe tbody tr th {\n",
       "        vertical-align: top;\n",
       "    }\n",
       "\n",
       "    .dataframe thead th {\n",
       "        text-align: right;\n",
       "    }\n",
       "</style>\n",
       "<table border=\"1\" class=\"dataframe\">\n",
       "  <thead>\n",
       "    <tr style=\"text-align: right;\">\n",
       "      <th></th>\n",
       "      <th>id</th>\n",
       "      <th>keyword</th>\n",
       "      <th>location</th>\n",
       "      <th>text</th>\n",
       "      <th>mod_text</th>\n",
       "      <th>tokenized</th>\n",
       "      <th>lower</th>\n",
       "      <th>stopwords_removed</th>\n",
       "      <th>pos_tags</th>\n",
       "      <th>wordnet_pos</th>\n",
       "      <th>lemmatized</th>\n",
       "      <th>lemma_str</th>\n",
       "    </tr>\n",
       "  </thead>\n",
       "  <tbody>\n",
       "    <tr>\n",
       "      <th>0</th>\n",
       "      <td>1</td>\n",
       "      <td>NaN</td>\n",
       "      <td>NaN</td>\n",
       "      <td>Our Deeds are the Reason of this #earthquake M...</td>\n",
       "      <td>Our Deeds are the Reason of this earthquake Ma...</td>\n",
       "      <td>[Our, Deeds, are, the, Reason, of, this, earth...</td>\n",
       "      <td>[our, deeds, are, the, reason, of, this, earth...</td>\n",
       "      <td>[deeds, reason, earthquake, may, allah, forgiv...</td>\n",
       "      <td>[(deeds, NNS), (reason, NN), (earthquake, NN),...</td>\n",
       "      <td>[(deeds, n), (reason, n), (earthquake, n), (ma...</td>\n",
       "      <td>[deed, reason, earthquake, may, allah, forgive...</td>\n",
       "      <td>deed reason earthquake may allah forgive u</td>\n",
       "    </tr>\n",
       "    <tr>\n",
       "      <th>1</th>\n",
       "      <td>4</td>\n",
       "      <td>NaN</td>\n",
       "      <td>NaN</td>\n",
       "      <td>Forest fire near La Ronge Sask. Canada</td>\n",
       "      <td>Forest fire near La Ronge Sask Canada</td>\n",
       "      <td>[Forest, fire, near, La, Ronge, Sask, Canada]</td>\n",
       "      <td>[forest, fire, near, la, ronge, sask, canada]</td>\n",
       "      <td>[forest, fire, near, la, ronge, sask, canada]</td>\n",
       "      <td>[(forest, JJS), (fire, NN), (near, IN), (la, J...</td>\n",
       "      <td>[(forest, a), (fire, n), (near, n), (la, a), (...</td>\n",
       "      <td>[forest, fire, near, la, ronge, sask, canada]</td>\n",
       "      <td>forest fire near la ronge sask canada</td>\n",
       "    </tr>\n",
       "    <tr>\n",
       "      <th>2</th>\n",
       "      <td>5</td>\n",
       "      <td>NaN</td>\n",
       "      <td>NaN</td>\n",
       "      <td>All residents asked to 'shelter in place' are ...</td>\n",
       "      <td>All residents asked to shelter in place are be...</td>\n",
       "      <td>[All, residents, asked, to, shelter, in, place...</td>\n",
       "      <td>[all, residents, asked, to, shelter, in, place...</td>\n",
       "      <td>[residents, asked, shelter, place, notified, o...</td>\n",
       "      <td>[(residents, NNS), (asked, VBD), (shelter, JJ)...</td>\n",
       "      <td>[(residents, n), (asked, v), (shelter, a), (pl...</td>\n",
       "      <td>[resident, ask, shelter, place, notify, office...</td>\n",
       "      <td>resident ask shelter place notify officer evac...</td>\n",
       "    </tr>\n",
       "    <tr>\n",
       "      <th>3</th>\n",
       "      <td>6</td>\n",
       "      <td>NaN</td>\n",
       "      <td>NaN</td>\n",
       "      <td>13,000 people receive #wildfires evacuation or...</td>\n",
       "      <td>13000 people receive wildfires evacuation orde...</td>\n",
       "      <td>[13000, people, receive, wildfires, evacuation...</td>\n",
       "      <td>[13000, people, receive, wildfires, evacuation...</td>\n",
       "      <td>[13000, people, receive, wildfires, evacuation...</td>\n",
       "      <td>[(13000, CD), (people, NNS), (receive, JJ), (w...</td>\n",
       "      <td>[(13000, n), (people, n), (receive, a), (wildf...</td>\n",
       "      <td>[13000, people, receive, wildfire, evacuation,...</td>\n",
       "      <td>13000 people receive wildfire evacuation order...</td>\n",
       "    </tr>\n",
       "    <tr>\n",
       "      <th>4</th>\n",
       "      <td>7</td>\n",
       "      <td>NaN</td>\n",
       "      <td>NaN</td>\n",
       "      <td>Just got sent this photo from Ruby #Alaska as ...</td>\n",
       "      <td>Just got sent this photo from Ruby Alaska as s...</td>\n",
       "      <td>[Just, got, sent, this, photo, from, Ruby, Ala...</td>\n",
       "      <td>[just, got, sent, this, photo, from, ruby, ala...</td>\n",
       "      <td>[got, sent, photo, ruby, alaska, smoke, wildfi...</td>\n",
       "      <td>[(got, VBD), (sent, JJ), (photo, NN), (ruby, N...</td>\n",
       "      <td>[(got, v), (sent, a), (photo, n), (ruby, n), (...</td>\n",
       "      <td>[get, sent, photo, ruby, alaska, smoke, wildfi...</td>\n",
       "      <td>get sent photo ruby alaska smoke wildfires pou...</td>\n",
       "    </tr>\n",
       "  </tbody>\n",
       "</table>\n",
       "</div>"
      ],
      "text/plain": [
       "   id keyword location                                               text  \\\n",
       "0   1     NaN      NaN  Our Deeds are the Reason of this #earthquake M...   \n",
       "1   4     NaN      NaN             Forest fire near La Ronge Sask. Canada   \n",
       "2   5     NaN      NaN  All residents asked to 'shelter in place' are ...   \n",
       "3   6     NaN      NaN  13,000 people receive #wildfires evacuation or...   \n",
       "4   7     NaN      NaN  Just got sent this photo from Ruby #Alaska as ...   \n",
       "\n",
       "                                            mod_text  \\\n",
       "0  Our Deeds are the Reason of this earthquake Ma...   \n",
       "1              Forest fire near La Ronge Sask Canada   \n",
       "2  All residents asked to shelter in place are be...   \n",
       "3  13000 people receive wildfires evacuation orde...   \n",
       "4  Just got sent this photo from Ruby Alaska as s...   \n",
       "\n",
       "                                           tokenized  \\\n",
       "0  [Our, Deeds, are, the, Reason, of, this, earth...   \n",
       "1      [Forest, fire, near, La, Ronge, Sask, Canada]   \n",
       "2  [All, residents, asked, to, shelter, in, place...   \n",
       "3  [13000, people, receive, wildfires, evacuation...   \n",
       "4  [Just, got, sent, this, photo, from, Ruby, Ala...   \n",
       "\n",
       "                                               lower  \\\n",
       "0  [our, deeds, are, the, reason, of, this, earth...   \n",
       "1      [forest, fire, near, la, ronge, sask, canada]   \n",
       "2  [all, residents, asked, to, shelter, in, place...   \n",
       "3  [13000, people, receive, wildfires, evacuation...   \n",
       "4  [just, got, sent, this, photo, from, ruby, ala...   \n",
       "\n",
       "                                   stopwords_removed  \\\n",
       "0  [deeds, reason, earthquake, may, allah, forgiv...   \n",
       "1      [forest, fire, near, la, ronge, sask, canada]   \n",
       "2  [residents, asked, shelter, place, notified, o...   \n",
       "3  [13000, people, receive, wildfires, evacuation...   \n",
       "4  [got, sent, photo, ruby, alaska, smoke, wildfi...   \n",
       "\n",
       "                                            pos_tags  \\\n",
       "0  [(deeds, NNS), (reason, NN), (earthquake, NN),...   \n",
       "1  [(forest, JJS), (fire, NN), (near, IN), (la, J...   \n",
       "2  [(residents, NNS), (asked, VBD), (shelter, JJ)...   \n",
       "3  [(13000, CD), (people, NNS), (receive, JJ), (w...   \n",
       "4  [(got, VBD), (sent, JJ), (photo, NN), (ruby, N...   \n",
       "\n",
       "                                         wordnet_pos  \\\n",
       "0  [(deeds, n), (reason, n), (earthquake, n), (ma...   \n",
       "1  [(forest, a), (fire, n), (near, n), (la, a), (...   \n",
       "2  [(residents, n), (asked, v), (shelter, a), (pl...   \n",
       "3  [(13000, n), (people, n), (receive, a), (wildf...   \n",
       "4  [(got, v), (sent, a), (photo, n), (ruby, n), (...   \n",
       "\n",
       "                                          lemmatized  \\\n",
       "0  [deed, reason, earthquake, may, allah, forgive...   \n",
       "1      [forest, fire, near, la, ronge, sask, canada]   \n",
       "2  [resident, ask, shelter, place, notify, office...   \n",
       "3  [13000, people, receive, wildfire, evacuation,...   \n",
       "4  [get, sent, photo, ruby, alaska, smoke, wildfi...   \n",
       "\n",
       "                                           lemma_str  \n",
       "0         deed reason earthquake may allah forgive u  \n",
       "1              forest fire near la ronge sask canada  \n",
       "2  resident ask shelter place notify officer evac...  \n",
       "3  13000 people receive wildfire evacuation order...  \n",
       "4  get sent photo ruby alaska smoke wildfires pou...  "
      ]
     },
     "execution_count": 10,
     "metadata": {},
     "output_type": "execute_result"
    }
   ],
   "source": [
    "#lemmatize the data \n",
    "wnl = WordNetLemmatizer()\n",
    "\n",
    "all_data['lemmatized'] = all_data['wordnet_pos'].apply(\n",
    "    lambda x: [wnl.lemmatize(word, tag) for word, tag in x])\n",
    "\n",
    "all_data['lemmatized'] = all_data['lemmatized'].apply(\n",
    "    lambda x: [word for word in x if word not in stop_words])\n",
    "\n",
    "all_data['lemma_str'] = [' '.join(map(str, l)) for l in all_data['lemmatized']]\n",
    "\n",
    "all_data.head()"
   ]
  },
  {
   "cell_type": "code",
   "execution_count": 11,
   "id": "f5b29c66",
   "metadata": {
    "execution": {
     "iopub.execute_input": "2022-09-27T09:58:15.570617Z",
     "iopub.status.busy": "2022-09-27T09:58:15.569797Z",
     "iopub.status.idle": "2022-09-27T09:58:15.586656Z",
     "shell.execute_reply": "2022-09-27T09:58:15.585295Z"
    },
    "papermill": {
     "duration": 0.029959,
     "end_time": "2022-09-27T09:58:15.589184",
     "exception": false,
     "start_time": "2022-09-27T09:58:15.559225",
     "status": "completed"
    },
    "tags": []
   },
   "outputs": [
    {
     "data": {
      "text/html": [
       "<div>\n",
       "<style scoped>\n",
       "    .dataframe tbody tr th:only-of-type {\n",
       "        vertical-align: middle;\n",
       "    }\n",
       "\n",
       "    .dataframe tbody tr th {\n",
       "        vertical-align: top;\n",
       "    }\n",
       "\n",
       "    .dataframe thead th {\n",
       "        text-align: right;\n",
       "    }\n",
       "</style>\n",
       "<table border=\"1\" class=\"dataframe\">\n",
       "  <thead>\n",
       "    <tr style=\"text-align: right;\">\n",
       "      <th></th>\n",
       "      <th>lemma_str</th>\n",
       "      <th>id</th>\n",
       "    </tr>\n",
       "  </thead>\n",
       "  <tbody>\n",
       "    <tr>\n",
       "      <th>0</th>\n",
       "      <td>deed reason earthquake may allah forgive u</td>\n",
       "      <td>1</td>\n",
       "    </tr>\n",
       "    <tr>\n",
       "      <th>1</th>\n",
       "      <td>forest fire near la ronge sask canada</td>\n",
       "      <td>4</td>\n",
       "    </tr>\n",
       "    <tr>\n",
       "      <th>2</th>\n",
       "      <td>resident ask shelter place notify officer evac...</td>\n",
       "      <td>5</td>\n",
       "    </tr>\n",
       "    <tr>\n",
       "      <th>3</th>\n",
       "      <td>13000 people receive wildfire evacuation order...</td>\n",
       "      <td>6</td>\n",
       "    </tr>\n",
       "    <tr>\n",
       "      <th>4</th>\n",
       "      <td>get sent photo ruby alaska smoke wildfires pou...</td>\n",
       "      <td>7</td>\n",
       "    </tr>\n",
       "  </tbody>\n",
       "</table>\n",
       "</div>"
      ],
      "text/plain": [
       "                                           lemma_str  id\n",
       "0         deed reason earthquake may allah forgive u   1\n",
       "1              forest fire near la ronge sask canada   4\n",
       "2  resident ask shelter place notify officer evac...   5\n",
       "3  13000 people receive wildfire evacuation order...   6\n",
       "4  get sent photo ruby alaska smoke wildfires pou...   7"
      ]
     },
     "execution_count": 11,
     "metadata": {},
     "output_type": "execute_result"
    }
   ],
   "source": [
    "all_data_post = all_data[['lemma_str', 'id']]\n",
    "all_data_post.head()"
   ]
  },
  {
   "cell_type": "code",
   "execution_count": 12,
   "id": "f61ddbb8",
   "metadata": {
    "execution": {
     "iopub.execute_input": "2022-09-27T09:58:15.607709Z",
     "iopub.status.busy": "2022-09-27T09:58:15.607271Z",
     "iopub.status.idle": "2022-09-27T09:58:15.635578Z",
     "shell.execute_reply": "2022-09-27T09:58:15.634200Z"
    },
    "papermill": {
     "duration": 0.040843,
     "end_time": "2022-09-27T09:58:15.638301",
     "exception": false,
     "start_time": "2022-09-27T09:58:15.597458",
     "status": "completed"
    },
    "tags": []
   },
   "outputs": [],
   "source": [
    "#post-processed train, test sets \n",
    "train_post = pd.merge(train, all_data_post, on='id')\n",
    "y = train_post['target']\n",
    "test_post = pd.merge(test,all_data_post, on='id')"
   ]
  },
  {
   "cell_type": "code",
   "execution_count": 13,
   "id": "e528ec57",
   "metadata": {
    "execution": {
     "iopub.execute_input": "2022-09-27T09:58:15.656664Z",
     "iopub.status.busy": "2022-09-27T09:58:15.656237Z",
     "iopub.status.idle": "2022-09-27T09:58:15.950114Z",
     "shell.execute_reply": "2022-09-27T09:58:15.948871Z"
    },
    "papermill": {
     "duration": 0.306288,
     "end_time": "2022-09-27T09:58:15.952861",
     "exception": false,
     "start_time": "2022-09-27T09:58:15.646573",
     "status": "completed"
    },
    "tags": []
   },
   "outputs": [],
   "source": [
    "#sentiment analysis using RNN and LSTM blocks \n",
    "#create vocab and tokens \n",
    "tokenizer=Tokenizer(num_words=3000,split=' ')\n",
    "tokenizer.fit_on_texts(train_post['lemma_str'].values)\n",
    "X = tokenizer.texts_to_sequences(train_post['lemma_str'].values)\n",
    "X = pad_sequences(X)\n",
    "\n",
    "#split train set into train and dev sets \n",
    "X_train, X_test, y_train, y_test = train_test_split(X,y, test_size = 0.2, random_state =41)\n"
   ]
  },
  {
   "cell_type": "code",
   "execution_count": 14,
   "id": "33dd6be8",
   "metadata": {
    "execution": {
     "iopub.execute_input": "2022-09-27T09:58:15.971412Z",
     "iopub.status.busy": "2022-09-27T09:58:15.971003Z",
     "iopub.status.idle": "2022-09-27T09:58:16.332282Z",
     "shell.execute_reply": "2022-09-27T09:58:16.331029Z"
    },
    "papermill": {
     "duration": 0.373667,
     "end_time": "2022-09-27T09:58:16.335051",
     "exception": false,
     "start_time": "2022-09-27T09:58:15.961384",
     "status": "completed"
    },
    "tags": []
   },
   "outputs": [
    {
     "name": "stderr",
     "output_type": "stream",
     "text": [
      "2022-09-27 09:58:16.041298: I tensorflow/compiler/xla/service/service.cc:171] XLA service 0x55a0ee89d7e0 initialized for platform Host (this does not guarantee that XLA will be used). Devices:\n",
      "2022-09-27 09:58:16.041384: I tensorflow/compiler/xla/service/service.cc:179]   StreamExecutor device (0): Host, Default Version\n",
      "2022-09-27 09:58:16.043018: I tensorflow/core/common_runtime/process_util.cc:146] Creating new thread pool with default inter op setting: 2. Tune using inter_op_parallelism_threads for best performance.\n"
     ]
    },
    {
     "name": "stdout",
     "output_type": "stream",
     "text": [
      "Model: \"sequential\"\n",
      "_________________________________________________________________\n",
      "Layer (type)                 Output Shape              Param #   \n",
      "=================================================================\n",
      "embedding (Embedding)        (None, 20, 32)            96000     \n",
      "_________________________________________________________________\n",
      "dropout (Dropout)            (None, 20, 32)            0         \n",
      "_________________________________________________________________\n",
      "lstm (LSTM)                  (None, 32)                8320      \n",
      "_________________________________________________________________\n",
      "dense (Dense)                (None, 1)                 33        \n",
      "=================================================================\n",
      "Total params: 104,353\n",
      "Trainable params: 104,353\n",
      "Non-trainable params: 0\n",
      "_________________________________________________________________\n",
      "None\n"
     ]
    }
   ],
   "source": [
    "#create model \n",
    "os.environ['TF_XLA_FLAGS'] = '--tf_xla_enable_xla_devices'\n",
    "callbacks = [ ReduceLROnPlateau(monitor='val_loss', patience=5, cooldown=0),\n",
    "              EarlyStopping(monitor='val_acc', min_delta=1e-4, patience=5)]\n",
    "\n",
    "embed_dim = 32\n",
    "lstm_out = 32\n",
    "model = Sequential()\n",
    "model.add(Embedding(3000, embed_dim,input_length = X.shape[1]))\n",
    "model.add(Dropout(0.2))\n",
    "model.add(LSTM(lstm_out, dropout=0.2, recurrent_dropout=0.4))\n",
    "model.add(Dense(1,activation='sigmoid'))\n",
    "adam = optimizers.Adam(learning_rate=0.002)\n",
    "model.compile(loss = 'binary_crossentropy', optimizer=adam ,metrics = ['accuracy'])\n",
    "print(model.summary())"
   ]
  },
  {
   "cell_type": "code",
   "execution_count": 15,
   "id": "4ffa0b8a",
   "metadata": {
    "execution": {
     "iopub.execute_input": "2022-09-27T09:58:16.354418Z",
     "iopub.status.busy": "2022-09-27T09:58:16.353980Z",
     "iopub.status.idle": "2022-09-27T09:59:25.327534Z",
     "shell.execute_reply": "2022-09-27T09:59:25.326362Z"
    },
    "papermill": {
     "duration": 68.986491,
     "end_time": "2022-09-27T09:59:25.330397",
     "exception": false,
     "start_time": "2022-09-27T09:58:16.343906",
     "status": "completed"
    },
    "tags": []
   },
   "outputs": [
    {
     "name": "stdout",
     "output_type": "stream",
     "text": [
      "Epoch 1/10\n"
     ]
    },
    {
     "name": "stderr",
     "output_type": "stream",
     "text": [
      "2022-09-27 09:58:16.418570: I tensorflow/compiler/mlir/mlir_graph_optimization_pass.cc:185] None of the MLIR Optimization Passes are enabled (registered 2)\n"
     ]
    },
    {
     "name": "stdout",
     "output_type": "stream",
     "text": [
      "191/191 [==============================] - 11s 36ms/step - loss: 0.5422 - accuracy: 0.7241 - val_loss: 0.4423 - val_accuracy: 0.7997\n",
      "Epoch 2/10\n",
      "191/191 [==============================] - 7s 35ms/step - loss: 0.3741 - accuracy: 0.8391 - val_loss: 0.4581 - val_accuracy: 0.8004\n",
      "Epoch 3/10\n",
      "191/191 [==============================] - 6s 33ms/step - loss: 0.3220 - accuracy: 0.8660 - val_loss: 0.5004 - val_accuracy: 0.8011\n",
      "Epoch 4/10\n",
      "191/191 [==============================] - 6s 33ms/step - loss: 0.2885 - accuracy: 0.8795 - val_loss: 0.5269 - val_accuracy: 0.7932\n",
      "Epoch 5/10\n",
      "191/191 [==============================] - 6s 34ms/step - loss: 0.2517 - accuracy: 0.8997 - val_loss: 0.6413 - val_accuracy: 0.7866\n",
      "Epoch 6/10\n",
      "191/191 [==============================] - 6s 34ms/step - loss: 0.2268 - accuracy: 0.9072 - val_loss: 0.6321 - val_accuracy: 0.7814\n",
      "Epoch 7/10\n",
      "191/191 [==============================] - 7s 35ms/step - loss: 0.1763 - accuracy: 0.9309 - val_loss: 0.7387 - val_accuracy: 0.7781\n",
      "Epoch 8/10\n",
      "191/191 [==============================] - 6s 33ms/step - loss: 0.1695 - accuracy: 0.9327 - val_loss: 0.7606 - val_accuracy: 0.7853\n",
      "Epoch 9/10\n",
      "191/191 [==============================] - 6s 33ms/step - loss: 0.1628 - accuracy: 0.9353 - val_loss: 0.7936 - val_accuracy: 0.7846\n",
      "Epoch 10/10\n",
      "191/191 [==============================] - 6s 33ms/step - loss: 0.1564 - accuracy: 0.9369 - val_loss: 0.8357 - val_accuracy: 0.7748\n"
     ]
    }
   ],
   "source": [
    "#fit model \n",
    "history = model.fit(X_train, y_train, epochs = 10, batch_size=32, validation_data=(X_test, y_test), callbacks= [callbacks])"
   ]
  },
  {
   "cell_type": "code",
   "execution_count": 16,
   "id": "8a7105ae",
   "metadata": {
    "execution": {
     "iopub.execute_input": "2022-09-27T09:59:25.470563Z",
     "iopub.status.busy": "2022-09-27T09:59:25.469426Z",
     "iopub.status.idle": "2022-09-27T09:59:27.538967Z",
     "shell.execute_reply": "2022-09-27T09:59:27.537278Z"
    },
    "papermill": {
     "duration": 2.142812,
     "end_time": "2022-09-27T09:59:27.542073",
     "exception": false,
     "start_time": "2022-09-27T09:59:25.399261",
     "status": "completed"
    },
    "tags": []
   },
   "outputs": [
    {
     "name": "stdout",
     "output_type": "stream",
     "text": [
      "Training Accuracy Obtained = 95 %\n",
      "Dev Accuracy  is  :  0.7747866053841103\n",
      "Dev Recall  is    :  0.7576219512195121\n",
      "Dev Precision  is :  0.7298091042584435\n"
     ]
    }
   ],
   "source": [
    "#predict over dev set and obtain accuracy, precision, recall\n",
    "y_pred = model.predict(X_test).round()\n",
    "train_accuracy = round(metrics.accuracy_score(y_train,model.predict(X_train).round())*100)\n",
    "print(\"Training Accuracy Obtained =\", train_accuracy, '%')\n",
    "print('Dev Accuracy  is  : ', (metrics.accuracy_score(y_test, y_pred)))\n",
    "print('Dev Recall  is    : ', (metrics.recall_score(y_test, y_pred)))\n",
    "print('Dev Precision  is : ', (metrics.precision_score(y_test, y_pred)))"
   ]
  },
  {
   "cell_type": "code",
   "execution_count": 17,
   "id": "248fbf3a",
   "metadata": {
    "execution": {
     "iopub.execute_input": "2022-09-27T09:59:27.687507Z",
     "iopub.status.busy": "2022-09-27T09:59:27.686699Z",
     "iopub.status.idle": "2022-09-27T09:59:27.999053Z",
     "shell.execute_reply": "2022-09-27T09:59:27.996721Z"
    },
    "papermill": {
     "duration": 0.38749,
     "end_time": "2022-09-27T09:59:28.002448",
     "exception": false,
     "start_time": "2022-09-27T09:59:27.614958",
     "status": "completed"
    },
    "tags": []
   },
   "outputs": [
    {
     "data": {
      "image/png": "[encoded data removed]",
      "text/plain": [
       "<Figure size 864x864 with 2 Axes>"
      ]
     },
     "metadata": {
      "needs_background": "light"
     },
     "output_type": "display_data"
    },
    {
     "name": "stdout",
     "output_type": "stream",
     "text": [
      "              precision    recall  f1-score   support\n",
      "\n",
      "           0       0.81      0.79      0.80       867\n",
      "           1       0.73      0.76      0.74       656\n",
      "\n",
      "    accuracy                           0.77      1523\n",
      "   macro avg       0.77      0.77      0.77      1523\n",
      "weighted avg       0.78      0.77      0.78      1523\n",
      "\n"
     ]
    }
   ],
   "source": [
    "# confusion matrix \n",
    "\n",
    "def plot_confusion_matrix(cm, classes,\n",
    "                          title='Confusion matrix',\n",
    "                          cmap=plt.cm.Blues):\n",
    "    \"\"\"\n",
    "    This function prints and plots the confusion matrix.\n",
    "    Normalization can be applied by setting `normalize=True`.\n",
    "    \"\"\"\n",
    "\n",
    "    cm = cm.astype('float') / cm.sum(axis=1)[:, np.newaxis]\n",
    "\n",
    "    plt.imshow(cm, interpolation='nearest', cmap=cmap)\n",
    "    plt.title(title, fontsize=30)\n",
    "    plt.colorbar()\n",
    "    tick_marks = np.arange(len(classes))\n",
    "    plt.xticks(tick_marks, classes, rotation=90, fontsize=22)\n",
    "    plt.yticks(tick_marks, classes, fontsize=22)\n",
    "\n",
    "    fmt = '.2f'\n",
    "    thresh = cm.max() / 2.\n",
    "    for i, j in itertools.product(range(cm.shape[0]), range(cm.shape[1])):\n",
    "        plt.text(j, i, format(cm[i, j], fmt),\n",
    "                 horizontalalignment=\"center\",\n",
    "                 color=\"white\" if cm[i, j] > thresh else \"black\")\n",
    "\n",
    "    plt.ylabel('True label', fontsize=25)\n",
    "    plt.xlabel('Predicted label', fontsize=25)\n",
    "cnf_matrix = confusion_matrix(y_test, y_pred)\n",
    "plt.figure(figsize=(12,12))\n",
    "plot_confusion_matrix(cnf_matrix, classes=y_train.unique(), title=\"Confusion matrix\")\n",
    "plt.show()\n",
    "print(classification_report(y_test, y_pred))"
   ]
  },
  {
   "cell_type": "code",
   "execution_count": 18,
   "id": "2d55609c",
   "metadata": {
    "execution": {
     "iopub.execute_input": "2022-09-27T09:59:28.144679Z",
     "iopub.status.busy": "2022-09-27T09:59:28.144265Z",
     "iopub.status.idle": "2022-09-27T09:59:28.631076Z",
     "shell.execute_reply": "2022-09-27T09:59:28.629778Z"
    },
    "papermill": {
     "duration": 0.560787,
     "end_time": "2022-09-27T09:59:28.633895",
     "exception": false,
     "start_time": "2022-09-27T09:59:28.073108",
     "status": "completed"
    },
    "tags": []
   },
   "outputs": [],
   "source": [
    "#prediction on test data set \n",
    "l =50\n",
    "max_features=5000\n",
    "tokenizer=Tokenizer(num_words=max_features,split=' ')\n",
    "tokenizer.fit_on_texts(train_post['lemma_str'].values)\n",
    "X = tokenizer.texts_to_sequences(train_post['lemma_str'].values)\n",
    "X = pad_sequences(X, maxlen =l)\n",
    "tokenizer.fit_on_texts(train_post['lemma_str'].values)\n",
    "test_token = tokenizer.texts_to_sequences(test_post['lemma_str'].values)\n",
    "test_token = pad_sequences(test_token, maxlen =l)"
   ]
  },
  {
   "cell_type": "code",
   "execution_count": 19,
   "id": "dca7f345",
   "metadata": {
    "execution": {
     "iopub.execute_input": "2022-09-27T09:59:28.774122Z",
     "iopub.status.busy": "2022-09-27T09:59:28.773672Z",
     "iopub.status.idle": "2022-09-27T09:59:29.061470Z",
     "shell.execute_reply": "2022-09-27T09:59:29.059831Z"
    },
    "papermill": {
     "duration": 0.36123,
     "end_time": "2022-09-27T09:59:29.064161",
     "exception": false,
     "start_time": "2022-09-27T09:59:28.702931",
     "status": "completed"
    },
    "tags": []
   },
   "outputs": [
    {
     "name": "stdout",
     "output_type": "stream",
     "text": [
      "Model: \"sequential_1\"\n",
      "_________________________________________________________________\n",
      "Layer (type)                 Output Shape              Param #   \n",
      "=================================================================\n",
      "embedding_1 (Embedding)      (None, 50, 100)           500000    \n",
      "_________________________________________________________________\n",
      "dropout_1 (Dropout)          (None, 50, 100)           0         \n",
      "_________________________________________________________________\n",
      "lstm_1 (LSTM)                (None, 50, 100)           80400     \n",
      "_________________________________________________________________\n",
      "dropout_2 (Dropout)          (None, 50, 100)           0         \n",
      "_________________________________________________________________\n",
      "lstm_2 (LSTM)                (None, 100)               80400     \n",
      "_________________________________________________________________\n",
      "dropout_3 (Dropout)          (None, 100)               0         \n",
      "_________________________________________________________________\n",
      "dense_1 (Dense)              (None, 1)                 101       \n",
      "=================================================================\n",
      "Total params: 660,901\n",
      "Trainable params: 660,901\n",
      "Non-trainable params: 0\n",
      "_________________________________________________________________\n",
      "None\n"
     ]
    }
   ],
   "source": [
    "#tuned model \n",
    "\n",
    "embed_dim = 100\n",
    "lstm_out = 100\n",
    "model = Sequential()\n",
    "model.add(Embedding(max_features, embed_dim,input_length = X.shape[1]))\n",
    "model.add(Dropout(0.2))\n",
    "model.add(LSTM(lstm_out, dropout=0.2, return_sequences=True,recurrent_dropout=0.4))\n",
    "model.add(Dropout(0.2))\n",
    "model.add(LSTM(lstm_out,dropout=0.2, recurrent_dropout=0.2))\n",
    "model.add(Dropout(0.2))\n",
    "model.add(Dense(1,activation='sigmoid'))\n",
    "adam = optimizers.Adam(learning_rate=2e-3)\n",
    "model.compile(loss = 'binary_crossentropy', optimizer=adam ,metrics = ['accuracy'])\n",
    "print(model.summary())"
   ]
  },
  {
   "cell_type": "code",
   "execution_count": 20,
   "id": "d3871d5f",
   "metadata": {
    "execution": {
     "iopub.execute_input": "2022-09-27T09:59:29.205883Z",
     "iopub.status.busy": "2022-09-27T09:59:29.205063Z",
     "iopub.status.idle": "2022-09-27T10:11:46.517521Z",
     "shell.execute_reply": "2022-09-27T10:11:46.516539Z"
    },
    "papermill": {
     "duration": 737.386845,
     "end_time": "2022-09-27T10:11:46.520216",
     "exception": false,
     "start_time": "2022-09-27T09:59:29.133371",
     "status": "completed"
    },
    "tags": []
   },
   "outputs": [
    {
     "name": "stdout",
     "output_type": "stream",
     "text": [
      "Epoch 1/10\n",
      "191/191 [==============================] - 80s 381ms/step - loss: 0.5184 - accuracy: 0.7456 - val_loss: 0.4620 - val_accuracy: 0.7833\n",
      "Epoch 2/10\n",
      "191/191 [==============================] - 71s 374ms/step - loss: 0.3527 - accuracy: 0.8548 - val_loss: 0.4938 - val_accuracy: 0.7754\n",
      "Epoch 3/10\n",
      "191/191 [==============================] - 71s 372ms/step - loss: 0.2927 - accuracy: 0.8860 - val_loss: 0.5830 - val_accuracy: 0.7636\n",
      "Epoch 4/10\n",
      "191/191 [==============================] - 72s 379ms/step - loss: 0.2347 - accuracy: 0.9110 - val_loss: 0.6867 - val_accuracy: 0.7538\n",
      "Epoch 5/10\n",
      "191/191 [==============================] - 71s 371ms/step - loss: 0.1893 - accuracy: 0.9248 - val_loss: 0.7605 - val_accuracy: 0.7406\n",
      "Epoch 6/10\n",
      "191/191 [==============================] - 72s 376ms/step - loss: 0.1371 - accuracy: 0.9473 - val_loss: 0.9813 - val_accuracy: 0.7288\n",
      "Epoch 7/10\n",
      "191/191 [==============================] - 73s 384ms/step - loss: 0.0993 - accuracy: 0.9591 - val_loss: 1.1117 - val_accuracy: 0.7262\n",
      "Epoch 8/10\n",
      "191/191 [==============================] - 73s 381ms/step - loss: 0.0861 - accuracy: 0.9639 - val_loss: 1.2798 - val_accuracy: 0.7229\n",
      "Epoch 9/10\n",
      "191/191 [==============================] - 73s 382ms/step - loss: 0.0776 - accuracy: 0.9663 - val_loss: 1.3746 - val_accuracy: 0.7249\n",
      "Epoch 10/10\n",
      "191/191 [==============================] - 73s 381ms/step - loss: 0.0749 - accuracy: 0.9673 - val_loss: 1.4218 - val_accuracy: 0.7137\n"
     ]
    }
   ],
   "source": [
    "#fit tuned model on training data \n",
    "model.fit(X,y, epochs = 10,validation_split = 0.2 ,callbacks=[callbacks], batch_size=32)\n",
    "y_hat = model.predict(test_token).round()"
   ]
  },
  {
   "cell_type": "markdown",
   "id": "9dcf46fd",
   "metadata": {
    "papermill": {
     "duration": 0.244817,
     "end_time": "2022-09-27T10:11:46.957664",
     "exception": false,
     "start_time": "2022-09-27T10:11:46.712847",
     "status": "completed"
    },
    "tags": []
   },
   "source": []
  }
 ],
 "metadata": {
  "kernelspec": {
   "display_name": "Python 3",
   "language": "python",
   "name": "python3"
  },
  "language_info": {
   "codemirror_mode": {
    "name": "ipython",
    "version": 3
   },
   "file_extension": ".py",
   "mimetype": "text/x-python",
   "name": "python",
   "nbconvert_exporter": "python",
   "pygments_lexer": "ipython3",
   "version": "3.7.12"
  },
  "papermill": {
   "default_parameters": {},
   "duration": 848.670783,
   "end_time": "2022-09-27T10:11:50.033734",
   "environment_variables": {},
   "exception": null,
   "input_path": "__notebook__.ipynb",
   "output_path": "__notebook__.ipynb",
   "parameters": {},
   "start_time": "2022-09-27T09:57:41.362951",
   "version": "2.3.4"
  }
 },
 "nbformat": 4,
 "nbformat_minor": 5
}
